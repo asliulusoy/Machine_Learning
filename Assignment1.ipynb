{
 "cells": [
  {
   "cell_type": "code",
   "execution_count": null,
   "metadata": {},
   "outputs": [],
   "source": [
    "import numpy as np"
   ]
  },
  {
   "cell_type": "markdown",
   "metadata": {},
   "source": [
    "## Question 1: Matrix Multiplication\n",
    "Given matrices A and B:\n",
    "\n",
    "\n",
    "A =[3,-2],[4,1]\n",
    "\n",
    "B =[-1,3],[2,0]\n",
    "\n",
    "Calculate the product AB."
   ]
  },
  {
   "cell_type": "code",
   "execution_count": 66,
   "metadata": {},
   "outputs": [
    {
     "data": {
      "text/plain": [
       "matrix([[-7,  9],\n",
       "        [-2, 12]])"
      ]
     },
     "execution_count": 66,
     "metadata": {},
     "output_type": "execute_result"
    }
   ],
   "source": [
    "matrixA = np.matrix([[3, -2], [4, 1]])\n",
    "matrixB = np.matrix([[-1, 3], [2, 0]])\n",
    "\n",
    "result = np.dot(matrixA, matrixB)\n",
    "result"
   ]
  },
  {
   "cell_type": "markdown",
   "metadata": {},
   "source": [
    "## Question 2: Inverse Matrix\n",
    "Let matrix D be:\n",
    "\n",
    "D =[4,2],[5,3]\n",
    "\n",
    "Find the inverse of matrix D."
   ]
  },
  {
   "cell_type": "code",
   "execution_count": 67,
   "metadata": {},
   "outputs": [
    {
     "data": {
      "text/plain": [
       "matrix([[ 1.5, -1. ],\n",
       "        [-2.5,  2. ]])"
      ]
     },
     "execution_count": 67,
     "metadata": {},
     "output_type": "execute_result"
    }
   ],
   "source": [
    "matrixD = np.matrix([[4, 2], [5, 3]])\n",
    "\n",
    "result = np.linalg.inv(matrixD)\n",
    "result"
   ]
  },
  {
   "cell_type": "markdown",
   "metadata": {},
   "source": [
    "## Question 3: Determinant\n",
    "\n",
    "C =[-2,5],[3,1]\n",
    "\n",
    "Compute the determinant of the matrix C."
   ]
  },
  {
   "cell_type": "code",
   "execution_count": 68,
   "metadata": {},
   "outputs": [
    {
     "data": {
      "text/plain": [
       "-17.0"
      ]
     },
     "execution_count": 68,
     "metadata": {},
     "output_type": "execute_result"
    }
   ],
   "source": [
    "matrixC = np.matrix([[-2, 5], [3, 1]])\n",
    "\n",
    "result = np.linalg.det(matrixC)\n",
    "result"
   ]
  },
  {
   "cell_type": "markdown",
   "metadata": {},
   "source": [
    "## Question 4: Transpose Matrix\n",
    "Given matrix E:\n",
    "\n",
    "E =[1,-3,2],[0,7,-1]\n",
    "\n",
    "Find the transpose of matrix E^T."
   ]
  },
  {
   "cell_type": "code",
   "execution_count": 69,
   "metadata": {},
   "outputs": [
    {
     "data": {
      "text/plain": [
       "matrix([[ 1,  0],\n",
       "        [-3,  7],\n",
       "        [ 2, -1]])"
      ]
     },
     "execution_count": 69,
     "metadata": {},
     "output_type": "execute_result"
    }
   ],
   "source": [
    "matrixE = np.matrix([[1, -3, 2], [0, 7, -1]])\n",
    "result = matrixE.transpose()\n",
    "result"
   ]
  },
  {
   "cell_type": "markdown",
   "metadata": {},
   "source": [
    "## Question 5: Matrix Transformation\n",
    "Perform the following matrix transformation on vector v:\n",
    "\n",
    "v =[-1],[3]\n",
    "   \n",
    "using the transformation matrix:\n",
    "\n",
    "T =[-2,1],[1,3]"
   ]
  },
  {
   "cell_type": "code",
   "execution_count": 70,
   "metadata": {},
   "outputs": [
    {
     "data": {
      "text/plain": [
       "matrix([[5],\n",
       "        [8]])"
      ]
     },
     "execution_count": 70,
     "metadata": {},
     "output_type": "execute_result"
    }
   ],
   "source": [
    "matrixV = np.matrix([[-1], [3]])\n",
    "matrixT = np.matrix([[-2, 1], [1, 3]])\n",
    "\n",
    "result = matrixT @ matrixV\n",
    "result"
   ]
  },
  {
   "cell_type": "markdown",
   "metadata": {},
   "source": [
    "## Question 6: Change of Basis\n",
    "Given a vector v in standard basis representation:\n",
    "\n",
    "v =[2],[4]\n",
    "\n",
    "Find the representation of v in a new basis B:\n",
    "\n",
    "B =[3,1],[-2,5]"
   ]
  },
  {
   "cell_type": "code",
   "execution_count": 71,
   "metadata": {},
   "outputs": [
    {
     "data": {
      "text/plain": [
       "array([[0.35294118],\n",
       "       [0.94117647]])"
      ]
     },
     "execution_count": 71,
     "metadata": {},
     "output_type": "execute_result"
    }
   ],
   "source": [
    "vectorV = np.array([[2], [4]])\n",
    "B = np.array([[3, 1], [-2, 5]])\n",
    "\n",
    "B_inv = np.linalg.inv(B)\n",
    "v_in_B = B_inv @ vectorV\n",
    "\n",
    "v_in_B"
   ]
  },
  {
   "cell_type": "markdown",
   "metadata": {},
   "source": [
    "## Question 7: Eigenvalues and Eigenvectors\n",
    "Given matrix F:\n",
    "\n",
    "F=[5,-2],[-1,4]\n",
    "\n",
    "Find the eigenvalues and eigenvectors of matrix F."
   ]
  },
  {
   "cell_type": "code",
   "execution_count": 72,
   "metadata": {},
   "outputs": [
    {
     "data": {
      "text/plain": [
       "EigResult(eigenvalues=array([6., 3.]), eigenvectors=matrix([[ 0.89442719,  0.70710678],\n",
       "        [-0.4472136 ,  0.70710678]]))"
      ]
     },
     "execution_count": 72,
     "metadata": {},
     "output_type": "execute_result"
    }
   ],
   "source": [
    "matrixF=np.matrix([[5,-2],[-1,4]])\n",
    "\n",
    "values=np.linalg.eig(matrixF)\n",
    "values"
   ]
  },
  {
   "cell_type": "markdown",
   "metadata": {},
   "source": [
    "## Question 8: Conditional Probability\n",
    "Given two events A and B with\n",
    "\n",
    "P(A) = 0.7, P(B) = 0.5,\n",
    "\n",
    "P(A ∩ B) = 0.3,\n",
    "\n",
    "calculate the conditional probability P(A|B)."
   ]
  },
  {
   "cell_type": "markdown",
   "metadata": {},
   "source": [
    "### Solution:\n",
    "\n",
    "P(A∣B)= P(A∩B)/P(B)"
   ]
  },
  {
   "cell_type": "code",
   "execution_count": null,
   "metadata": {},
   "outputs": [],
   "source": [
    "ProbA=0.7\n",
    "ProbB=0.5\n",
    "ProbIntersectionAB=0.3\n",
    "\n",
    "result=ProbIntersectionAB/ProbB"
   ]
  }
 ],
 "metadata": {
  "kernelspec": {
   "display_name": "Python 3",
   "language": "python",
   "name": "python3"
  },
  "language_info": {
   "codemirror_mode": {
    "name": "ipython",
    "version": 3
   },
   "file_extension": ".py",
   "mimetype": "text/x-python",
   "name": "python",
   "nbconvert_exporter": "python",
   "pygments_lexer": "ipython3",
   "version": "3.11.3"
  }
 },
 "nbformat": 4,
 "nbformat_minor": 2
}
